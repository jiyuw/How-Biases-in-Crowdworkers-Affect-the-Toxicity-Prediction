{
 "cells": [
  {
   "cell_type": "markdown",
   "metadata": {},
   "source": [
    "# How Biases in Crowdworkers Affect the Toxicity Prediction\n",
    "Jiyu Wang"
   ]
  },
  {
   "cell_type": "markdown",
   "metadata": {},
   "source": [
    "## Motivation\n",
    "In assignment 2, we analyzed the demographical bias in annotators of the Wikipedia Talk dataset and proposed possible influence of these biases on machine learning projects. I would like to train NLP models on datasets that have different annotation contribution and assess their performance.\n",
    "\n",
    "First, this topic is related to our course content. It focused on classifying toxic comments. Instead of depending on crowdworkers to label millions of comments, it attempts to use machine learning to label comments which is much more efficient. Second, natural language processing (NLP) has been a popular topic in data science and I would like to use this opportunity to explore this topic. This is interesting from a human-centered perspective since it matters for us to explore better ways to classify comments on the Internet more efficiently and more effectively. I hope to learn not only some basic knowledge and skills about NLP but also some insights on the advantages and limitations of NLP in accomplishing similar tasks."
   ]
  },
  {
   "cell_type": "markdown",
   "metadata": {},
   "source": [
    "## Background\n",
    "Comment toxicity classification has been a popular topic in the field of natural language processing. Predicting toxic comments is helpful in cleaning the Internet environment. The model can be potentially used in various applications. First, it could protect web content viewers by blocking highly toxic comments ([example](https://github.com/conversationai/perspective-hacks/blob/master/comment_filter/README.md)). It keeps meaningful discussions and identifies users that are frequently posting toxic comments. Second, it helps editors and authors to pre-assess the posts ([example](https://github.com/conversationai/perspectiveapi-authorship-demo)). It could provide real-time feedback on the writing content thus potentially yield better output. Third, for admins, it is helpful by auto-checking all contents and deleting toxic comments.\n",
    "\n",
    "Various models have been utilized in the txocity prediction, including simply K-nearest neighbors model and neural networks (as shown in this [blog](https://medium.com/@nupurbaghel/toxic-comment-classification-f6e075c3487a)). the LSTM (Long Short-term Memory) models belong to the recurrent neural network family and have been widely used in time series analysis and natural language processing. Specifically for comment toxicity prediction, LSTM has been used to predict toxicity scores. It has been proven that LSTM model could successfully achieve good performance in suggesting toxic comments during the  [toxicity prediction competition](https://www.kaggle.com/bminixhofer/simple-lstm-pytorch-version).\n",
    "\n",
    "In assignment 2, we explored the demographical distribution of annotators, in which we inferred differences in annotations from different groups. This phenomenon is well known and inevitable. But, whether these biases will impact further applications on the dataset remains unknown.\n",
    "\n",
    "Since the annotations of the Wikipedia Talk dataset were performed by crowdworkers, whose demographical distribution is hard to control in a project scope, it is possible that a certain task will recruit more annotators from a certain demographical group. Methods that were designed to alleviate biases such as averaging the scores might not work in this scenario, due to the skewed distribution of the population distribution."
   ]
  },
  {
   "cell_type": "markdown",
   "metadata": {},
   "source": [
    "## Research Question\n",
    "How does the bias in crowdworkers' demographical distribution affect the toxicity prediction? Specifically, will a dataset annotated by mostly females give us different toxicity prediction performance compared to a more balanced dataset or a male-biased dataset? Further questions like \"how does the ratio of female annotators affect the model performance?\" can be asked later.\n",
    "\n",
    "I will also extend this research to study other demographical areas, such as first-language groups and age groups, if time permitted."
   ]
  },
  {
   "cell_type": "markdown",
   "metadata": {},
   "source": [
    "## Hypothesis\n",
    "Since our preliminary analysis indicated that females are more likely to label comments as toxic, I hypothesize that higher ratio of female annotators will yield more negative toxicity scores. Similarly, since non-native English speakers tend to label comments as toxic, I expect to observe more negative toxicity scores with higher ratio of non-native annotators."
   ]
  },
  {
   "cell_type": "markdown",
   "metadata": {},
   "source": [
    "## Methodology"
   ]
  },
  {
   "cell_type": "markdown",
   "metadata": {},
   "source": [
    "### Dataset Preparation\n",
    "The original dataset consists of three files:\n",
    "- toxicity_annotated_comments.tsv: context and id of 159686 annotated comments\n",
    "- toxicity_annotations.tsv: annotations of each comment from 10 random workers\n",
    "- toxicity_worker_demographics.tsv: demographics of workers"
   ]
  },
  {
   "cell_type": "markdown",
   "metadata": {},
   "source": [
    "All three files are used to create the training set and test set as described below:"
   ]
  },
  {
   "cell_type": "markdown",
   "metadata": {},
   "source": [
    "#### Merge necessary columns from three files\n",
    "First, import some necessary libraries and open three raw data files."
   ]
  },
  {
   "cell_type": "code",
   "execution_count": 1,
   "metadata": {},
   "outputs": [],
   "source": [
    "import pandas as pd\n",
    "import os\n",
    "import matplotlib.pyplot as plt\n",
    "from sklearn.model_selection import train_test_split\n",
    "\n",
    "RAW_DATA = 'raw-data'\n",
    "DATA_PATH = 'data'\n",
    "\n",
    "annotation_file = 'toxicity_annotations.tsv'\n",
    "comments_file = 'toxicity_annotated_comments.tsv'\n",
    "workers_file = 'toxicity_worker_demographics.tsv'"
   ]
  },
  {
   "cell_type": "code",
   "execution_count": 2,
   "metadata": {},
   "outputs": [],
   "source": [
    "annotation = pd.read_csv(os.path.join(RAW_DATA, annotation_file), sep='\\t')\n",
    "comments = pd.read_csv(os.path.join(RAW_DATA, comments_file), sep='\\t')\n",
    "workers = pd.read_csv(os.path.join(RAW_DATA, workers_file), sep='\\t')"
   ]
  },
  {
   "cell_type": "markdown",
   "metadata": {},
   "source": [
    "Create a dataframe called 'data' which contains all necessary columns from all three files. The comment text and worker gender are joined to the annotation file with respective ids. Specifically, since annotators with unknown gender were labeled as \"other\" which does not provide information on gender, I only kept the male and female gender annotators in this analysis."
   ]
  },
  {
   "cell_type": "code",
   "execution_count": 3,
   "metadata": {},
   "outputs": [],
   "source": [
    "data = annotation[['rev_id', 'worker_id', 'toxicity_score']].merge(comments[['rev_id', 'comment']], on='rev_id').merge(workers[['worker_id','gender']], on='worker_id')\n",
    "data = data[data['gender'].isin(['female', 'male'])]"
   ]
  },
  {
   "cell_type": "markdown",
   "metadata": {},
   "source": [
    "#### Split comments into training and test set\n",
    "The dataset is then splitted into training and test set based on the comment id"
   ]
  },
  {
   "cell_type": "code",
   "execution_count": 4,
   "metadata": {},
   "outputs": [],
   "source": [
    "train, test = train_test_split(comments['rev_id'], test_size=0.1, random_state=111)\n",
    "# train set\n",
    "df = data[data['rev_id'].isin(train)]\n",
    "# test set\n",
    "df_test = data[data['rev_id'].isin(test)]"
   ]
  },
  {
   "cell_type": "markdown",
   "metadata": {},
   "source": [
    "#### Sample from female or male annotators and generate training sets\n",
    "Basic information on annotators grouped by gender:"
   ]
  },
  {
   "cell_type": "code",
   "execution_count": 5,
   "metadata": {},
   "outputs": [
    {
     "name": "stdout",
     "output_type": "stream",
     "text": [
      "female annotators: 1263\n",
      "male annotators: 2327\n"
     ]
    }
   ],
   "source": [
    "females = workers[workers['gender']=='female']['worker_id']\n",
    "males = workers[workers['gender']=='male']['worker_id']\n",
    "n_female = len(females)\n",
    "n_male = len(males)\n",
    "print(\"female annotators: \"+str(n_female))\n",
    "print(\"male annotators: \"+str(n_male))"
   ]
  },
  {
   "cell_type": "markdown",
   "metadata": {},
   "source": [
    "These information is then used to create various training sets.\n",
    "\n",
    "Female 0 dataset and female 100 dataset are created by filtering all female annotators or all male annotators."
   ]
  },
  {
   "cell_type": "code",
   "execution_count": 6,
   "metadata": {},
   "outputs": [],
   "source": [
    "# female only and male only dataset\n",
    "female100 = df[df['gender']=='female']\n",
    "female0 = df[df['gender']=='male']"
   ]
  },
  {
   "cell_type": "markdown",
   "metadata": {},
   "source": [
    "Since there are fewer female annotators than male annotators, the female 50 dataset is created by sampling same number of male annotators and combining with all female annotators."
   ]
  },
  {
   "cell_type": "code",
   "execution_count": 7,
   "metadata": {},
   "outputs": [
    {
     "data": {
      "text/plain": [
       "2526"
      ]
     },
     "execution_count": 7,
     "metadata": {},
     "output_type": "execute_result"
    }
   ],
   "source": [
    "# female 50% dataset\n",
    "male50idx = males.sample(n_female, random_state=111)\n",
    "female50 = df[df['worker_id'].isin(females.append(male50idx))]\n",
    "len(females.append(male50idx))"
   ]
  },
  {
   "cell_type": "markdown",
   "metadata": {},
   "source": [
    "The female 25 and female 75 datasets are then created by sampling female annotators or male annotators."
   ]
  },
  {
   "cell_type": "code",
   "execution_count": 8,
   "metadata": {},
   "outputs": [
    {
     "data": {
      "text/plain": [
       "3102"
      ]
     },
     "execution_count": 8,
     "metadata": {},
     "output_type": "execute_result"
    }
   ],
   "source": [
    "# female 25% dataset\n",
    "female25idx = females.sample(n_male//3, random_state=111)\n",
    "female25 = df[df['worker_id'].isin(males.append(female25idx))]\n",
    "len(males.append(female25idx))"
   ]
  },
  {
   "cell_type": "code",
   "execution_count": 9,
   "metadata": {},
   "outputs": [
    {
     "data": {
      "text/plain": [
       "1684"
      ]
     },
     "execution_count": 9,
     "metadata": {},
     "output_type": "execute_result"
    }
   ],
   "source": [
    "# female 75% dataset\n",
    "male25idx = males.sample(n_female//3, random_state=111)\n",
    "female75 = df[df['worker_id'].isin(females.append(male25idx))]\n",
    "len(females.append(male25idx))"
   ]
  },
  {
   "cell_type": "markdown",
   "metadata": {},
   "source": [
    "Since each comment was annotated by 10 annotators (less than 10 after we exclude some annotators), I averaged the toxicity scores of each comment to obtain its \"real label\". All five training sets and the test set are processed in this way. Notes: the gender selection is not processed for test set, since only the real labels are needed to compare with prediction results."
   ]
  },
  {
   "cell_type": "code",
   "execution_count": 10,
   "metadata": {
    "scrolled": true
   },
   "outputs": [
    {
     "name": "stdout",
     "output_type": "stream",
     "text": [
      "female ratio 0: size 143681\n",
      "female ratio 0.25: size 143717\n",
      "female ratio 0.5: size 143706\n",
      "female ratio 0.75: size 142581\n",
      "female ratio 1: size 138368\n"
     ]
    }
   ],
   "source": [
    "raw_datasets = {'0':female0, '0.25':female25, '0.5':female50, '0.75':female75, '1':female100}\n",
    "datasets = {}\n",
    "# take average of all comments\n",
    "for k, v in raw_datasets.items():\n",
    "    tscore = v.groupby('rev_id')['toxicity_score'].mean().round(2)\n",
    "    new = v.drop_duplicates(subset=['rev_id', 'comment'])[['rev_id', 'comment']].join(tscore, on='rev_id', how='left')\n",
    "    datasets[k] = new\n",
    "    print(f\"female ratio {k}: size {len(new)}\")"
   ]
  },
  {
   "cell_type": "code",
   "execution_count": 11,
   "metadata": {},
   "outputs": [],
   "source": [
    "# test set\n",
    "tox = data.groupby('rev_id')['toxicity_score'].mean().round(2)\n",
    "test_set = df_test.drop_duplicates(subset=['rev_id', 'comment'])[['rev_id', 'comment']].join(tox, on='rev_id', how='left')"
   ]
  },
  {
   "cell_type": "markdown",
   "metadata": {},
   "source": [
    "All generated datasets are saved in the [\"data\"](data) folder for further analysis."
   ]
  },
  {
   "cell_type": "code",
   "execution_count": 12,
   "metadata": {},
   "outputs": [],
   "source": [
    "# save all datasets\n",
    "for k, v in datasets.items():\n",
    "    file_name = f\"train_female{k}.csv\"\n",
    "    v.to_csv(os.path.join(DATA_PATH, file_name), index=False)\n",
    "test_set.to_csv(os.path.join(DATA_PATH, 'test.csv'), index=False)"
   ]
  },
  {
   "cell_type": "markdown",
   "metadata": {},
   "source": [
    "### NLP model training"
   ]
  },
  {
   "cell_type": "markdown",
   "metadata": {},
   "source": [
    "Several LSTM models are used to accomplish this prediction task. LSTM (Long short-term memory) model is one of the recurrent neural networks widely used for natural language processing and time series etc. The LSTM model implemented with Tensorflow and some necessary functions can be found in [lstm-train.py](lstm-train.py). The training was performed on the kaggle website since it provides free GPUs for deep learning training.\n",
    "\n",
    "Each training set (female0, female25, female50, female75, and female100) was trained on one LSTM model. The trained model is then used to predict toxicity scores for the test set. The predictions are saved in the [\"results\"](result) folder."
   ]
  },
  {
   "cell_type": "markdown",
   "metadata": {},
   "source": [
    "### Evaluation of predictions"
   ]
  },
  {
   "cell_type": "markdown",
   "metadata": {},
   "source": [
    "The predictions are then evaluated by two methods.\n",
    "\n",
    "First, mean-squared-error (MSE) is calculated to assess the overall quality of predictions. The MSE metrics accumulates prediction errors of each comment relative to the reference labels. Two kinds of labels were used as references. Predictions from all five models are first compared to the \"real labels\" from the original annotations. Then the female 50 predictions are used as secondary reference to calculate MSE of other four models. These two comparisons reveal different aspects of model performance, since the comparison with female 50 is less affected by the intrinsic issues of the LSTM model compared to the comparison with \"real labels\".\n",
    "\n",
    "Second, residuals of four unbalanced datasets relative to the female 50 are then plotted to explore the distribution of predictions. The residual distributions were compared with a linear regression model to assess the mean differences and linearity."
   ]
  },
  {
   "cell_type": "markdown",
   "metadata": {},
   "source": [
    "## Results"
   ]
  },
  {
   "cell_type": "markdown",
   "metadata": {},
   "source": [
    "The predictions from LSTM models trained on five different training sets were evaluated and compared using codes provided below:"
   ]
  },
  {
   "cell_type": "markdown",
   "metadata": {},
   "source": [
    "First import some necessary packages and find all results files in the results folder"
   ]
  },
  {
   "cell_type": "code",
   "execution_count": 13,
   "metadata": {},
   "outputs": [
    {
     "data": {
      "text/plain": [
       "['train_female0.25_predictions.csv',\n",
       " 'train_female0.5_predictions.csv',\n",
       " 'train_female0.75_predictions.csv',\n",
       " 'train_female0_predictions.csv',\n",
       " 'train_female1_predictions.csv']"
      ]
     },
     "execution_count": 13,
     "metadata": {},
     "output_type": "execute_result"
    }
   ],
   "source": [
    "import numpy as np\n",
    "import pandas as pd\n",
    "import matplotlib.pyplot as plt\n",
    "import os\n",
    "from sklearn.metrics import mean_squared_error\n",
    "import seaborn as sns\n",
    "from statsmodels.formula.api import ols\n",
    "from statsmodels.stats.anova import anova_lm\n",
    "\n",
    "# find all files\n",
    "results = os.listdir('results/')\n",
    "results"
   ]
  },
  {
   "cell_type": "markdown",
   "metadata": {},
   "source": [
    "Load all results files and save to a dictionary."
   ]
  },
  {
   "cell_type": "code",
   "execution_count": 14,
   "metadata": {},
   "outputs": [],
   "source": [
    "predictions = {name.split('_')[1]:pd.read_csv('results/'+name) for name in results}\n",
    "ratios = ['0', '0.25', '0.5', '0.75', '1']"
   ]
  },
  {
   "cell_type": "markdown",
   "metadata": {},
   "source": [
    "### MSE compared to real labels\n",
    "The predictions of all five models trained on datasets with different ratio of female annotators are first compared to the real labels derived from the original dataset. Mean-squared-errors are calculated to indicate the accumulated prediction errors."
   ]
  },
  {
   "cell_type": "code",
   "execution_count": 15,
   "metadata": {},
   "outputs": [],
   "source": [
    "mse_gt = []\n",
    "for r in ratios:\n",
    "    key = 'female'+r\n",
    "    df = predictions[key]\n",
    "    y_real = df['toxicity_score']\n",
    "    y_pred = df['prediction']\n",
    "    mse = mean_squared_error(y_real, y_pred)\n",
    "    mse_gt.append(mse)"
   ]
  },
  {
   "cell_type": "markdown",
   "metadata": {},
   "source": [
    "The MSE of all models are then plotted versus the ratio of female annotators."
   ]
  },
  {
   "cell_type": "code",
   "execution_count": 16,
   "metadata": {},
   "outputs": [
    {
     "data": {
      "image/png": "[encoded data removed]",
      "text/plain": [
       "<Figure size 432x288 with 1 Axes>"
      ]
     },
     "metadata": {
      "needs_background": "light"
     },
     "output_type": "display_data"
    }
   ],
   "source": [
    "x = [0, 0.25, 0.5, 0.75, 1]\n",
    "plt.plot(x, mse_gt, marker='.', color='r', linewidth=1.9, alpha=0.9)\n",
    "plt.xlabel('female ratio in annotators')\n",
    "plt.ylabel('MSE(comparison to real dataset)')\n",
    "plt.tight_layout()\n",
    "plt.savefig('images/mse_to_gt.png', dpi=200)"
   ]
  },
  {
   "cell_type": "markdown",
   "metadata": {},
   "source": [
    "The model trained on the female0.25 dataset has the lowest MSE, since the ratio of female annotators for the original dataset is close to 1/3 and the female0.25 is most similar to the original dataset where the real labels come from."
   ]
  },
  {
   "cell_type": "markdown",
   "metadata": {},
   "source": [
    "### Relative MSE compared to balanced dataset\n",
    "Since the male to female ratio is close to 0.5 in real world, a balanced dataset would be annotated by workers whose female ratio is 0.5. Thus, I use the predictions from the model which was trained on the female0.5 dataset as the new labels to calculate the relative MSE for other four models."
   ]
  },
  {
   "cell_type": "code",
   "execution_count": 17,
   "metadata": {},
   "outputs": [],
   "source": [
    "y_rel_real = predictions['female0.5']['prediction']\n",
    "mse_rel = []\n",
    "for r in ratios:\n",
    "    key = 'female'+r\n",
    "    df = predictions[key]\n",
    "    y_pred = df['prediction']\n",
    "    mse = mean_squared_error(y_rel_real, y_pred)\n",
    "    mse_rel.append(mse)"
   ]
  },
  {
   "cell_type": "markdown",
   "metadata": {},
   "source": [
    "The MSEs are then plotted versus the ratio of female annotators."
   ]
  },
  {
   "cell_type": "code",
   "execution_count": 18,
   "metadata": {},
   "outputs": [
    {
     "data": {
      "image/png": "[encoded data removed]",
      "text/plain": [
       "<Figure size 432x288 with 1 Axes>"
      ]
     },
     "metadata": {
      "needs_background": "light"
     },
     "output_type": "display_data"
    }
   ],
   "source": [
    "x = [0, 0.25, 0.5, 0.75, 1]\n",
    "plt.plot(x, mse_rel, marker='.', color='b', linewidth=1.9, alpha=0.9)\n",
    "plt.xlabel('female ratio in annotators')\n",
    "plt.ylabel('MSE(comparison to female0.5 dataset)')\n",
    "plt.tight_layout()\n",
    "plt.savefig('images/mse_to_0.5.png', dpi=200)"
   ]
  },
  {
   "cell_type": "markdown",
   "metadata": {},
   "source": [
    "As expected, the MSEs are symmetrical relative to the female0.5 dataset. This phenomenon indicates that more or fewer female annotators will both affect the model predictions."
   ]
  },
  {
   "cell_type": "markdown",
   "metadata": {},
   "source": [
    "### Prediction residuals analysis\n",
    "The MSEs indicate the overall model performance since it is the accumulated errors of all samples. I also would like to explore the errors at the sample level. Thus, the residual of each sample indicates the difference between the prediction and the new label from female0.5 dataset."
   ]
  },
  {
   "cell_type": "code",
   "execution_count": 19,
   "metadata": {},
   "outputs": [],
   "source": [
    "y_rel_real = np.array(predictions['female0.5']['prediction'])\n",
    "residuals = pd.DataFrame(columns=['female0', 'female0.25', 'female0.75', 'female1'])\n",
    "for r in ratios:\n",
    "    if r == '0.5':\n",
    "        continue\n",
    "    key = 'female'+r\n",
    "    df = predictions[key]\n",
    "    y_pred = np.array(df['prediction'])\n",
    "    residuals[key] = y_pred-y_rel_real\n",
    "residuals = residuals.reset_index(drop=True)"
   ]
  },
  {
   "cell_type": "markdown",
   "metadata": {},
   "source": [
    "Boxplots are then created to show the distribution of residuals of other four models."
   ]
  },
  {
   "cell_type": "code",
   "execution_count": 20,
   "metadata": {},
   "outputs": [
    {
     "data": {
      "image/png": "[encoded data removed]",
      "text/plain": [
       "<Figure size 432x288 with 1 Axes>"
      ]
     },
     "metadata": {
      "needs_background": "light"
     },
     "output_type": "display_data"
    }
   ],
   "source": [
    "flierprops = dict(markerfacecolor='0.75', markersize=2,\n",
    "              linestyle='none')\n",
    "ax = sns.boxplot(data=residuals, orient='h', flierprops=flierprops)\n",
    "ax.set(xlabel='toxicity score')\n",
    "fig = ax.get_figure()\n",
    "plt.tight_layout()\n",
    "fig.savefig('images/distribution.png', dpi=200)"
   ]
  },
  {
   "cell_type": "markdown",
   "metadata": {},
   "source": [
    "The distribution of residuals is shifted to be more negative when ratio of female annotators becomes larger. The mean residuals are quite different. So I performed a linear regression test to analyze the differences statistically."
   ]
  },
  {
   "cell_type": "code",
   "execution_count": 21,
   "metadata": {},
   "outputs": [
    {
     "name": "stdout",
     "output_type": "stream",
     "text": [
      "                            OLS Regression Results                            \n",
      "==============================================================================\n",
      "Dep. Variable:              tox_score   R-squared:                       0.175\n",
      "Model:                            OLS   Adj. R-squared:                  0.175\n",
      "Method:                 Least Squares   F-statistic:                 1.355e+04\n",
      "Date:                Tue, 15 Dec 2020   Prob (F-statistic):               0.00\n",
      "Time:                        15:38:53   Log-Likelihood:             1.1017e+05\n",
      "No. Observations:               63876   AIC:                        -2.203e+05\n",
      "Df Residuals:                   63874   BIC:                        -2.203e+05\n",
      "Df Model:                           1                                         \n",
      "Covariance Type:            nonrobust                                         \n",
      "==============================================================================\n",
      "                 coef    std err          t      P>|t|      [0.025      0.975]\n",
      "------------------------------------------------------------------------------\n",
      "Intercept      0.0238      0.000     86.622      0.000       0.023       0.024\n",
      "ratio         -0.0502      0.000   -116.389      0.000      -0.051      -0.049\n",
      "==============================================================================\n",
      "Omnibus:                     5773.674   Durbin-Watson:                   2.004\n",
      "Prob(Omnibus):                  0.000   Jarque-Bera (JB):            41495.473\n",
      "Skew:                          -0.003   Prob(JB):                         0.00\n",
      "Kurtosis:                       6.949   Cond. No.                         3.25\n",
      "==============================================================================\n",
      "\n",
      "Notes:\n",
      "[1] Standard Errors assume that the covariance matrix of the errors is correctly specified.\n"
     ]
    }
   ],
   "source": [
    "long_df = pd.melt(residuals, var_name = 'ratio', value_name='tox_score')\n",
    "long_df['ratio'] = pd.to_numeric(long_df['ratio'].str.replace('female',''))\n",
    "tox_table = ols('tox_score ~ ratio', data=long_df).fit()\n",
    "print(tox_table.summary())"
   ]
  },
  {
   "cell_type": "markdown",
   "metadata": {},
   "source": [
    "The p value for the resulting F-statistic is close to 0, indicating that the mean residuals of these datasets are significantly different. There is a perfect linear relationship between prediction residuals and the ratio of female annotators, since p values for both intercept of the coefficient are 0."
   ]
  },
  {
   "cell_type": "markdown",
   "metadata": {},
   "source": [
    "## Conclusion\n",
    "Female annotators tend to give negative toxicity scores (more toxic) to comments, resulting in biased training set. This bias is able to be transfered through the machine learning process. LSTM models trained on dataset with different ratio of female annotators yield different predictions on comment toxicity. Even unseen comments will be wrongly labeled if the machine learning model was trained on a biased dataset."
   ]
  },
  {
   "cell_type": "markdown",
   "metadata": {},
   "source": [
    "## Discussion"
   ]
  },
  {
   "cell_type": "markdown",
   "metadata": {},
   "source": [
    "Although the result of statistical test is convincing, there are still several caveats that may raise concerns on the result. To mimic the real case scenario in which the ratio of female annotators for a single comment is not controlled no matter what the overall female ratio for the dataset is, I simply remove annotations made by crowdworkers that were not included in a specific subset. However, this leaves inconsistent number of annotations for each comment. In the original dataset, each comment was annotated by ten workers, while in my analysis, the number of annotators for each comment may be different. This may be the reason why the relative MSE for female 0.25 dataset is slightly lower than that of the female 0.75 dataset. Further studies on this topic should not ignore this phenomenon and consider keeping the number of annotations for each comment to be consistent.\n",
    "\n",
    "Despite the caveat discussed above, this study still provided some implications on human-centered data science. Since humans are complicated, human activities involved in all steps in a machine learning application should be assessed carefully. Specifically, in the dataset preparation step, annotators should be carefully selected as any aspects of demographics of annotators could possibly affect the output."
   ]
  }
 ],
 "metadata": {
  "kernelspec": {
   "display_name": "Python 3",
   "language": "python",
   "name": "python3"
  },
  "language_info": {
   "codemirror_mode": {
    "name": "ipython",
    "version": 3
   },
   "file_extension": ".py",
   "mimetype": "text/x-python",
   "name": "python",
   "nbconvert_exporter": "python",
   "pygments_lexer": "ipython3",
   "version": "3.7.0"
  }
 },
 "nbformat": 4,
 "nbformat_minor": 2
}
